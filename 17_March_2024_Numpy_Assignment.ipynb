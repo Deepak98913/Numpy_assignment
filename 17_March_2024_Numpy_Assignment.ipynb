{
 "cells": [
  {
   "cell_type": "markdown",
   "id": "8150506f-c904-4e6b-83ba-a4dbf1764fc0",
   "metadata": {},
   "source": [
    "# 1. What is a Python library? Why ^o we use Python libraries?"
   ]
  },
  {
   "cell_type": "markdown",
   "id": "d9405349-c397-4c89-96f7-36a4d4f5a663",
   "metadata": {},
   "source": [
    "# Answer :-\n",
    " A Python library is a collection of pre-written code and functions that provide specific functionalities to perform tasks easily without having to write the code from scratch. These libraries are typically created to address common programming tasks or to support specific domains such as web development, data analysis, machine learning, natural language processing, etc.\n",
    "\n",
    "We use Python libraries for several reasons:\n",
    "\n",
    "1. **Code Reusability**: Libraries provide pre-implemented functionalities that can be reused in various projects, saving time and effort.\n",
    "\n",
    "2. **Efficiency**: Libraries are usually written and optimized by experts, so they often offer efficient implementations of algorithms and solutions.\n",
    "\n",
    "3. **Domain-specific tasks**: Many libraries are tailored to specific tasks or domains, such as scientific computing, data visualization, or web development, providing specialized tools and utilities to handle those tasks effectively.\n",
    "\n",
    "4. **Community Support**: Popular Python libraries often have large communities of users contributing to their development and maintenance. This means there's a wealth of resources available such as documentation, tutorials, and forums where users can seek help and share knowledge.\n",
    "\n",
    "5. **Integration**: Python libraries are designed to work seamlessly with other Python code, making it easy to integrate them into your projects.\n",
    "\n",
    "Overall, Python libraries help developers write better code faster by providing ready-made solutions to common programming challenges."
   ]
  },
  {
   "cell_type": "markdown",
   "id": "d3e444b6-c587-467a-ae52-3eb5fb90ed8f",
   "metadata": {},
   "source": [
    "# 2. What is the ^ifference between Numpy array an^ List?\n"
   ]
  },
  {
   "cell_type": "markdown",
   "id": "eac53967-5858-4c00-b86d-f67ab8a305a5",
   "metadata": {},
   "source": [
    "# Answer :-\n",
    "NumPy arrays and Python lists are both used to store collections of data, but they have several differences:\n",
    "\n",
    "1. **Data Types**: \n",
    "   - NumPy arrays are homogeneous, meaning all elements in the array must be of the same data type. This allows for more efficient storage and computation.\n",
    "   - Python lists can contain elements of different data types.\n",
    "\n",
    "2. **Memory Efficiency**:\n",
    "   - NumPy arrays typically use less memory than Python lists, especially for large datasets, because NumPy arrays are stored more efficiently in memory.\n",
    "   \n",
    "3. **Performance**:\n",
    "   - NumPy arrays offer better performance for mathematical operations and computations compared to Python lists. This is because NumPy arrays are implemented in C and optimized for performance.\n",
    "   \n",
    "4. **Functionality**:\n",
    "   - NumPy arrays provide a wide range of mathematical functions and operations for array manipulation, such as element-wise operations, linear algebra operations, and statistical functions.\n",
    "   - Python lists offer more flexibility and a wider range of built-in methods and functions for general-purpose programming tasks.\n",
    "\n",
    "5. **Indexing and Slicing**:\n",
    "   - NumPy arrays support advanced indexing and slicing operations, making it easier to work with subsets of data.\n",
    "   - Python lists also support indexing and slicing but are not as powerful or efficient as NumPy arrays for these operations.\n",
    "\n",
    "6. **Ease of Use**:\n",
    "   - Python lists are generally easier to work with for beginners and for general-purpose programming tasks due to their simplicity.\n",
    "   - NumPy arrays require some knowledge of numerical computing and array manipulation techniques, but they offer more powerful tools for numerical computations and data analysis.\n",
    "\n",
    "In summary, NumPy arrays are preferred for numerical computing and data manipulation tasks due to their efficiency and functionality, while Python lists are more suitable for general-purpose programming and situations where flexibility is more important than performance."
   ]
  },
  {
   "cell_type": "markdown",
   "id": "1188d4ec-281c-4b10-8bf4-60c7844aeae3",
   "metadata": {},
   "source": [
    "# 3Find the shape, size and dimension of the following array?\n",
    "# [[1, 2, 3, 4]\n",
    "# [5, 6, 7, 8],\n",
    "# [9, 10, 11, 12]]"
   ]
  },
  {
   "cell_type": "code",
   "execution_count": 2,
   "id": "b8085708-48d3-4bba-8bd1-0b836e6305e8",
   "metadata": {},
   "outputs": [
    {
     "name": "stdout",
     "output_type": "stream",
     "text": [
      "Shape: (3, 4)\n",
      "Size: 12\n",
      "Dimensions: 2\n"
     ]
    }
   ],
   "source": [
    "\n",
    "\n",
    "import numpy as np\n",
    "\n",
    "arr = np.array([[1, 2, 3, 4],\n",
    "                [5, 6, 7, 8],\n",
    "                [9, 10, 11, 12]])\n",
    "\n",
    "# Shape\n",
    "print(\"Shape:\", arr.shape)\n",
    "\n",
    "# Size\n",
    "print(\"Size:\", arr.size)\n",
    "\n",
    "# Dimensions\n",
    "print(\"Dimensions:\", arr.ndim)\n"
   ]
  },
  {
   "cell_type": "markdown",
   "id": "ca1c972a-27f0-4059-b7d2-50c431dd172d",
   "metadata": {},
   "source": [
    "# 4. Write python code to access the first row of the following array?\n",
    "[[1, 2, 3, 4]\n",
    "[5, 6, 7, 8],\n",
    "[9, 10, 11, 12]]"
   ]
  },
  {
   "cell_type": "code",
   "execution_count": 3,
   "id": "b85d6bb7-3e65-403e-b25d-17eacbd8bf74",
   "metadata": {},
   "outputs": [
    {
     "name": "stdout",
     "output_type": "stream",
     "text": [
      "First Row: [1 2 3 4]\n"
     ]
    }
   ],
   "source": [
    "import numpy as np\n",
    "\n",
    "arr = np.array([[1, 2, 3, 4],\n",
    "                [5, 6, 7, 8],\n",
    "                [9, 10, 11, 12]])\n",
    "\n",
    "first_row = arr[0]\n",
    "print(\"First Row:\", first_row)\n"
   ]
  },
  {
   "cell_type": "markdown",
   "id": "7ee5321a-e52b-4e0b-ac29-694fcac16e62",
   "metadata": {},
   "source": [
    "# 5. How do you access the element at the third row and fourth column from the given numpy array?\n",
    "[[1, 2, 3, 4]\n",
    "[5, 6, 7, 8],\n",
    "[9, 10, 11, 12]]"
   ]
  },
  {
   "cell_type": "code",
   "execution_count": 4,
   "id": "35b5752d-5f94-406d-9dba-755f542e9a90",
   "metadata": {},
   "outputs": [
    {
     "name": "stdout",
     "output_type": "stream",
     "text": [
      "Element at third row and fourth column: 12\n"
     ]
    }
   ],
   "source": [
    "import numpy as np\n",
    "\n",
    "arr = np.array([[1, 2, 3, 4],\n",
    "                [5, 6, 7, 8],\n",
    "                [9, 10, 11, 12]])\n",
    "\n",
    "element = arr[2, 3]  # Third row (index 2), fourth column (index 3)\n",
    "print(\"Element at third row and fourth column:\", element)\n"
   ]
  },
  {
   "cell_type": "markdown",
   "id": "c8c54b19-b1af-416a-8c81-00d7b9d0c1e0",
   "metadata": {},
   "source": [
    "# 6. Write code to extract all odd-indexed elements from the given numpy array?\n",
    "[[1, 2, 3, 4]\n",
    "[5, 6, 7, 8],\n",
    "[9, 10, 11, 12]]"
   ]
  },
  {
   "cell_type": "code",
   "execution_count": 5,
   "id": "cd4dd128-52cc-4ea3-9792-73a3a1271b3f",
   "metadata": {},
   "outputs": [
    {
     "name": "stdout",
     "output_type": "stream",
     "text": [
      "Odd-indexed elements:\n",
      "[[ 2  4]\n",
      " [ 6  8]\n",
      " [10 12]]\n"
     ]
    }
   ],
   "source": [
    "import numpy as np\n",
    "\n",
    "arr = np.array([[1, 2, 3, 4],\n",
    "                [5, 6, 7, 8],\n",
    "                [9, 10, 11, 12]])\n",
    "\n",
    "odd_indexed_elements = arr[:, 1::2]  # Slicing: start from index 1, step by 2\n",
    "print(\"Odd-indexed elements:\")\n",
    "print(odd_indexed_elements)\n"
   ]
  },
  {
   "cell_type": "markdown",
   "id": "bc54d6e2-88ff-4cd9-b48c-c6e0d77eefe0",
   "metadata": {},
   "source": [
    "# 7. How can you generate a random 3x3 matrix with values between 0 and 1?"
   ]
  },
  {
   "cell_type": "code",
   "execution_count": 6,
   "id": "bcd8d44f-3c1e-443e-821c-ef00053a386d",
   "metadata": {},
   "outputs": [
    {
     "name": "stdout",
     "output_type": "stream",
     "text": [
      "Random 3x3 matrix:\n",
      "[[0.32716998 0.58951026 0.59217916]\n",
      " [0.99876665 0.63342115 0.00978628]\n",
      " [0.65516307 0.15881944 0.39161798]]\n"
     ]
    }
   ],
   "source": [
    "import numpy as np\n",
    "\n",
    "# Generate random 3x3 matrix with values between 0 and 1\n",
    "random_matrix = np.random.rand(3, 3)\n",
    "\n",
    "print(\"Random 3x3 matrix:\")\n",
    "print(random_matrix)\n"
   ]
  },
  {
   "cell_type": "markdown",
   "id": "84563f4b-f2f1-4d3f-92d7-3b422f2acb5c",
   "metadata": {},
   "source": [
    "# 8. Describe the difference between np.random.rand and np.random.randn?"
   ]
  },
  {
   "cell_type": "markdown",
   "id": "8e69c233-66ee-4b4c-ace4-1c40c380cf25",
   "metadata": {},
   "source": [
    "# Answer :-\n",
    "The functions `np.random.rand` and `np.random.randn` are both used to generate random numbers with NumPy, but they have some key differences:\n",
    "\n",
    "1. **Output Distribution**:\n",
    "   - `np.random.rand`: Generates random numbers from a uniform distribution over the interval [0, 1). This means that each value in the generated array has an equal probability of occurring within this interval.\n",
    "   - `np.random.randn`: Generates random numbers from a standard normal distribution (also known as Gaussian distribution) with mean 0 and standard deviation 1. In other words, the values are drawn from a bell-shaped curve centered at 0, where values closer to the mean are more likely to occur.\n",
    "\n",
    "2. **Input Arguments**:\n",
    "   - `np.random.rand`: Accepts shape parameters as input, which determine the shape of the output array. These shape parameters are provided as separate arguments or as a single tuple.\n",
    "   - `np.random.randn`: Also accepts shape parameters as input, similar to `np.random.rand`, to specify the shape of the output array.\n",
    "\n",
    "3. **Usage**:\n",
    "   - `np.random.rand` is often used when you need random numbers uniformly distributed between 0 and 1, for tasks such as generating random matrices for testing or simulation purposes.\n",
    "   - `np.random.randn` is commonly used when you need random numbers from a normal distribution, which is frequently encountered in statistical analysis, machine learning, and various scientific simulations.\n",
    "\n",
    "In summary, `np.random.rand` generates random numbers from a uniform distribution, while `np.random.randn` generates random numbers from a standard normal distribution. The choice between them depends on the specific requirements of your application and the type of random numbers you need."
   ]
  },
  {
   "cell_type": "markdown",
   "id": "71aebc2b-0094-4e4a-a4cc-b2f73ca54825",
   "metadata": {},
   "source": [
    "# 9. Write code to increase the dimension of the following array?\n",
    "[[1, 2, 3, 4]\n",
    "[5, 6, 7, 8],\n",
    "[9, 10, 11, 12]]"
   ]
  },
  {
   "cell_type": "code",
   "execution_count": 11,
   "id": "336671b7-f0aa-4db7-ac0a-94cf2166c395",
   "metadata": {},
   "outputs": [
    {
     "name": "stdout",
     "output_type": "stream",
     "text": [
      "Original array shape: (3, 4)\n",
      "Increased array shape: (1, 3, 4)\n",
      "Increased array:\n",
      "[[[ 1  2  3  4]\n",
      "  [ 5  6  7  8]\n",
      "  [ 9 10 11 12]]]\n"
     ]
    }
   ],
   "source": [
    "import numpy as np\n",
    "\n",
    "# Given array\n",
    "arr = np.array([[1, 2, 3, 4],\n",
    "                [5, 6, 7, 8],\n",
    "                [9, 10, 11, 12]])\n",
    "\n",
    "# Increase dimension along axis 0\n",
    "increased_arr = np.expand_dims(arr, axis=0)\n",
    "\n",
    "print(\"Original array shape:\", arr.shape)\n",
    "print(\"Increased array shape:\", increased_arr.shape)\n",
    "print(\"Increased array:\")\n",
    "print(increased_arr)\n"
   ]
  },
  {
   "cell_type": "markdown",
   "id": "4d6947b1-aeb9-4bcd-bccb-4b2c012122b7",
   "metadata": {},
   "source": [
    "# 10. How to transpose the following array in NumPy?\n",
    "[[1, 2, 3, 4]\n",
    "[5, 6, 7, 8],\n",
    "[9, 10, 11, 12]]"
   ]
  },
  {
   "cell_type": "code",
   "execution_count": 12,
   "id": "9686dfbe-5379-46a8-89b6-3290bb42eab5",
   "metadata": {},
   "outputs": [
    {
     "name": "stdout",
     "output_type": "stream",
     "text": [
      "Original array:\n",
      "[[ 1  2  3  4]\n",
      " [ 5  6  7  8]\n",
      " [ 9 10 11 12]]\n",
      "\n",
      "Transposed array using .T attribute:\n",
      "[[ 1  5  9]\n",
      " [ 2  6 10]\n",
      " [ 3  7 11]\n",
      " [ 4  8 12]]\n",
      "\n",
      "Transposed array using np.transpose() function:\n",
      "[[ 1  5  9]\n",
      " [ 2  6 10]\n",
      " [ 3  7 11]\n",
      " [ 4  8 12]]\n"
     ]
    }
   ],
   "source": [
    "import numpy as np\n",
    "\n",
    "# Given array\n",
    "arr = np.array([[1, 2, 3, 4],\n",
    "                [5, 6, 7, 8],\n",
    "                [9, 10, 11, 12]])\n",
    "\n",
    "# Transpose the array using .T attribute\n",
    "transposed_arr = arr.T\n",
    "\n",
    "print(\"Original array:\")\n",
    "print(arr)\n",
    "print(\"\\nTransposed array using .T attribute:\")\n",
    "print(transposed_arr)\n",
    "\n",
    "# Transpose the array using np.transpose() function\n",
    "transposed_arr_np = np.transpose(arr)\n",
    "\n",
    "print(\"\\nTransposed array using np.transpose() function:\")\n",
    "print(transposed_arr_np)\n"
   ]
  },
  {
   "cell_type": "markdown",
   "id": "3f35d793-d67a-4e73-98c8-b7415453ee36",
   "metadata": {},
   "source": [
    "# 11. Consider the following matrix:\n",
    "Matrix A2 [[1, 2, 3, 4] [5, 6, 7, 8],[9, 10, 11, 12]]\n",
    "Matrix B2 [[1, 2, 3, 4] [5, 6, 7, 8],[9, 10, 11, 12]]\n",
    "\n",
    "Perform the following operation using Python1\n",
    "# 1. Index wise multiplication"
   ]
  },
  {
   "cell_type": "code",
   "execution_count": 17,
   "id": "3c5db65f-227a-434c-8363-26f375723734",
   "metadata": {},
   "outputs": [
    {
     "name": "stdout",
     "output_type": "stream",
     "text": [
      "Matrix A2:\n",
      "[[ 1  2  3  4]\n",
      " [ 5  6  7  8]\n",
      " [ 9 10 11 12]]\n",
      "\n",
      "Matrix B2:\n",
      "[[ 1  2  3  4]\n",
      " [ 5  6  7  8]\n",
      " [ 9 10 11 12]]\n",
      "\n",
      "Result of index-wise multiplication:\n",
      "[[  1   4   9  16]\n",
      " [ 25  36  49  64]\n",
      " [ 81 100 121 144]]\n"
     ]
    }
   ],
   "source": [
    "import numpy as np\n",
    "\n",
    "# Define matrices A2 and B2\n",
    "A2 = np.array([[1, 2, 3, 4],\n",
    "               [5, 6, 7, 8],\n",
    "               [9, 10, 11, 12]])\n",
    "\n",
    "B2 = np.array([[1, 2, 3, 4],\n",
    "               [5, 6, 7, 8],\n",
    "               [9, 10, 11, 12]])\n",
    "\n",
    "# Perform index-wise multiplication\n",
    "result = np.multiply(A2, B2)\n",
    "\n",
    "print(\"Matrix A2:\")\n",
    "print(A2)\n",
    "print(\"\\nMatrix B2:\")\n",
    "print(B2)\n",
    "print(\"\\nResult of index-wise multiplication:\")\n",
    "print(result)\n"
   ]
  },
  {
   "cell_type": "markdown",
   "id": "e3922511-6cd4-4a39-84f2-577de64061b7",
   "metadata": {},
   "source": [
    "# 2.  Matrix multiplication"
   ]
  },
  {
   "cell_type": "code",
   "execution_count": 18,
   "id": "603d4713-4309-4fa6-9d9e-1a59c7dd78e7",
   "metadata": {},
   "outputs": [
    {
     "name": "stdout",
     "output_type": "stream",
     "text": [
      "Matrix A2:\n",
      "[[ 1  2  3  4]\n",
      " [ 5  6  7  8]\n",
      " [ 9 10 11 12]]\n",
      "\n",
      "Matrix B2:\n",
      "[[ 1  2  3  4]\n",
      " [ 5  6  7  8]\n",
      " [ 9 10 11 12]]\n",
      "\n",
      "Result of matrix multiplication:\n",
      "[[ 30  70 110]\n",
      " [ 70 174 278]\n",
      " [110 278 446]]\n"
     ]
    }
   ],
   "source": [
    "import numpy as np\n",
    "\n",
    "# Define matrices A and B\n",
    "A2 = np.array([[1, 2, 3, 4],\n",
    "               [5, 6, 7, 8],\n",
    "               [9, 10, 11, 12]])\n",
    "\n",
    "B2 = np.array([[1, 2, 3, 4],\n",
    "               [5, 6, 7, 8],\n",
    "               [9, 10, 11, 12]])\n",
    "\n",
    "# Perform matrix multiplication\n",
    "result = np.dot(A2, B2.T)  # Alternatively, you can use A2 @ B2.T\n",
    "\n",
    "print(\"Matrix A2:\")\n",
    "print(A2)\n",
    "print(\"\\nMatrix B2:\")\n",
    "print(B2)\n",
    "print(\"\\nResult of matrix multiplication:\")\n",
    "print(result)\n"
   ]
  },
  {
   "cell_type": "markdown",
   "id": "d3398da6-3cba-40ad-aa89-ce918500a6d6",
   "metadata": {},
   "source": [
    "# 3. Add both the matrics"
   ]
  },
  {
   "cell_type": "code",
   "execution_count": 19,
   "id": "b2bf6f36-b60d-4476-8d16-dfaf046fe41f",
   "metadata": {},
   "outputs": [
    {
     "name": "stdout",
     "output_type": "stream",
     "text": [
      "Matrix A2:\n",
      "[[ 1  2  3  4]\n",
      " [ 5  6  7  8]\n",
      " [ 9 10 11 12]]\n",
      "\n",
      "Matrix B2:\n",
      "[[ 1  2  3  4]\n",
      " [ 5  6  7  8]\n",
      " [ 9 10 11 12]]\n",
      "\n",
      "Result of matrix addition:\n",
      "[[ 2  4  6  8]\n",
      " [10 12 14 16]\n",
      " [18 20 22 24]]\n"
     ]
    }
   ],
   "source": [
    "import numpy as np\n",
    "\n",
    "# Define matrices A2 and B2\n",
    "A2 = np.array([[1, 2, 3, 4],\n",
    "               [5, 6, 7, 8],\n",
    "               [9, 10, 11, 12]])\n",
    "\n",
    "B2 = np.array([[1, 2, 3, 4],\n",
    "               [5, 6, 7, 8],\n",
    "               [9, 10, 11, 12]])\n",
    "\n",
    "# Add both matrices\n",
    "result = A2 + B2\n",
    "\n",
    "print(\"Matrix A2:\")\n",
    "print(A2)\n",
    "print(\"\\nMatrix B2:\")\n",
    "print(B2)\n",
    "print(\"\\nResult of matrix addition:\")\n",
    "print(result)\n"
   ]
  },
  {
   "cell_type": "markdown",
   "id": "1583bb5f-a7b9-4cb4-a9b7-e0208cd4bddc",
   "metadata": {},
   "source": [
    "# 4. Subtact matrix B from A"
   ]
  },
  {
   "cell_type": "code",
   "execution_count": 20,
   "id": "b4c8ac3b-49a7-4cb7-bdf5-07e7578e2232",
   "metadata": {},
   "outputs": [
    {
     "name": "stdout",
     "output_type": "stream",
     "text": [
      "Matrix A:\n",
      "[[ 1  2  3  4]\n",
      " [ 5  6  7  8]\n",
      " [ 9 10 11 12]]\n",
      "\n",
      "Matrix B:\n",
      "[[ 1  2  3  4]\n",
      " [ 5  6  7  8]\n",
      " [ 9 10 11 12]]\n",
      "\n",
      "Result of subtracting matrix B from A:\n",
      "[[0 0 0 0]\n",
      " [0 0 0 0]\n",
      " [0 0 0 0]]\n"
     ]
    }
   ],
   "source": [
    "import numpy as np\n",
    "\n",
    "# Define matrices A and B\n",
    "A = np.array([[1, 2, 3, 4],\n",
    "              [5, 6, 7, 8],\n",
    "              [9, 10, 11, 12]])\n",
    "\n",
    "B = np.array([[1, 2, 3, 4],\n",
    "              [5, 6, 7, 8],\n",
    "              [9, 10, 11, 12]])\n",
    "\n",
    "# Subtract matrix B from A\n",
    "result = A - B\n",
    "\n",
    "print(\"Matrix A:\")\n",
    "print(A)\n",
    "print(\"\\nMatrix B:\")\n",
    "print(B)\n",
    "print(\"\\nResult of subtracting matrix B from A:\")\n",
    "print(result)\n"
   ]
  },
  {
   "cell_type": "markdown",
   "id": "6d533d23-f199-4ee4-bbb0-2629abe29b6e",
   "metadata": {},
   "source": [
    "# 5. Divide Matrix B by A"
   ]
  },
  {
   "cell_type": "code",
   "execution_count": 21,
   "id": "ebb75647-08dd-491b-be4d-9f80932ba65b",
   "metadata": {},
   "outputs": [
    {
     "name": "stdout",
     "output_type": "stream",
     "text": [
      "Matrix A:\n",
      "[[ 1  2  3  4]\n",
      " [ 5  6  7  8]\n",
      " [ 9 10 11 12]]\n",
      "\n",
      "Matrix B:\n",
      "[[ 1  2  3  4]\n",
      " [ 5  6  7  8]\n",
      " [ 9 10 11 12]]\n",
      "\n",
      "Result of dividing matrix B by A:\n",
      "[[1. 1. 1. 1.]\n",
      " [1. 1. 1. 1.]\n",
      " [1. 1. 1. 1.]]\n"
     ]
    }
   ],
   "source": [
    "import numpy as np\n",
    "\n",
    "# Define matrices A and B\n",
    "A = np.array([[1, 2, 3, 4],\n",
    "              [5, 6, 7, 8],\n",
    "              [9, 10, 11, 12]])\n",
    "\n",
    "B = np.array([[1, 2, 3, 4],\n",
    "              [5, 6, 7, 8],\n",
    "              [9, 10, 11, 12]])\n",
    "\n",
    "# Divide matrix B by A\n",
    "result = B / A\n",
    "\n",
    "print(\"Matrix A:\")\n",
    "print(A)\n",
    "print(\"\\nMatrix B:\")\n",
    "print(B)\n",
    "print(\"\\nResult of dividing matrix B by A:\")\n",
    "print(result)\n"
   ]
  },
  {
   "cell_type": "markdown",
   "id": "3ab0b3c6-0bba-40b6-ba08-3f80d6ca6a9f",
   "metadata": {},
   "source": [
    "# 12. Which function in Numpy can be used to swap the byte order of an array?"
   ]
  },
  {
   "cell_type": "code",
   "execution_count": 13,
   "id": "8fc93d07-ac25-4560-af0e-cf36ef9c14a9",
   "metadata": {},
   "outputs": [
    {
     "name": "stdout",
     "output_type": "stream",
     "text": [
      "Original array: [1 2 3 4]\n",
      "Swapped array: [16777216 33554432 50331648 67108864]\n"
     ]
    }
   ],
   "source": [
    "import numpy as np\n",
    "\n",
    "# Create an array\n",
    "arr = np.array([1, 2, 3, 4], dtype=np.int32)\n",
    "print(\"Original array:\", arr)\n",
    "\n",
    "# Swap byte order\n",
    "swapped_arr = arr.byteswap()\n",
    "\n",
    "print(\"Swapped array:\", swapped_arr)\n"
   ]
  },
  {
   "cell_type": "markdown",
   "id": "de7710df-8589-45e5-8904-ddfad5e74026",
   "metadata": {},
   "source": [
    "# 13. What is the significance of the np.linalg.inv function?"
   ]
  },
  {
   "cell_type": "markdown",
   "id": "0e5496bf-b6a6-467c-b189-4bea482caf4b",
   "metadata": {},
   "source": [
    "# Answer :-\n",
    "The `np.linalg.inv` function in NumPy is used to compute the inverse of a square matrix. The significance of this function lies in its application across various mathematical and computational domains:\n",
    "\n",
    "1. **Solving Linear Systems of Equations**: One of the primary applications of matrix inversion is in solving systems of linear equations. Given a system of equations in matrix form \\( Ax = b \\), where \\( A \\) is a square matrix of coefficients, \\( x \\) is the column vector of unknowns, and \\( b \\) is the column vector of constants, you can solve for \\( x \\) by computing the inverse of \\( A \\) and multiplying it with \\( b \\): \\( x = A^{-1}b \\).\n",
    "\n",
    "2. **Matrix Decompositions and Factorizations**: Matrix inversion is often a part of various matrix decomposition and factorization techniques, such as LU decomposition, QR decomposition, and singular value decomposition (SVD). These techniques are widely used in numerical analysis, statistics, optimization, and machine learning algorithms.\n",
    "\n",
    "3. **Determinants and Rank**: The inverse of a matrix can provide insights into its properties, such as its determinant and rank. For instance, a square matrix \\( A \\) is invertible (non-singular) if and only if its determinant \\( |A| \\) is non-zero. Additionally, the rank of a matrix can be deduced from the rank of its inverse.\n",
    "\n",
    "4. **Numerical Stability**: In practice, matrix inversion can be numerically unstable, especially for large or ill-conditioned matrices. The `np.linalg.inv` function in NumPy uses efficient algorithms to compute the inverse, taking into account numerical stability considerations.\n",
    "\n",
    "5. **Applications in Statistics and Probability**: Matrix inversion is fundamental in various statistical and probabilistic computations, such as in multivariate analysis, regression analysis, and Bayesian inference.\n",
    "\n",
    "Overall, the `np.linalg.inv` function plays a crucial role in linear algebra and its applications across diverse fields, enabling computations involving systems of linear equations, matrix decompositions, determinants, and more. However, it's important to use it judiciously, considering computational efficiency and numerical stability."
   ]
  },
  {
   "cell_type": "markdown",
   "id": "d1a22c40-3a79-49f0-baf8-feb1fe7b775c",
   "metadata": {},
   "source": [
    "# 14. What does the np.reshape function do, and how is it used ?"
   ]
  },
  {
   "cell_type": "code",
   "execution_count": 14,
   "id": "e8a45b60-9d02-401d-8b02-727dd68ec1e1",
   "metadata": {},
   "outputs": [
    {
     "name": "stdout",
     "output_type": "stream",
     "text": [
      "Original array (1D):\n",
      "[1 2 3 4 5 6]\n",
      "\n",
      "Reshaped array (2D):\n",
      "[[1 2 3]\n",
      " [4 5 6]]\n"
     ]
    }
   ],
   "source": [
    "import numpy as np\n",
    "\n",
    "# Create a 1D array\n",
    "arr_1d = np.array([1, 2, 3, 4, 5, 6])\n",
    "\n",
    "# Reshape the array to a 2x3 matrix\n",
    "arr_2d = np.reshape(arr_1d, (2, 3))\n",
    "\n",
    "print(\"Original array (1D):\")\n",
    "print(arr_1d)\n",
    "print(\"\\nReshaped array (2D):\")\n",
    "print(arr_2d)\n"
   ]
  },
  {
   "cell_type": "markdown",
   "id": "dddc1315-724f-4b33-baf4-6975ec748274",
   "metadata": {},
   "source": [
    "# 15. What is broadcasting in Numpy?"
   ]
  },
  {
   "cell_type": "code",
   "execution_count": 15,
   "id": "d549ab3e-49a3-4b1a-bcb2-bb53c747481c",
   "metadata": {},
   "outputs": [
    {
     "name": "stdout",
     "output_type": "stream",
     "text": [
      "Array 1:\n",
      "[[1 2 3]\n",
      " [4 5 6]]\n",
      "\n",
      "Array 2:\n",
      "[10 20 30]\n",
      "\n",
      "Result of addition:\n",
      "[[11 22 33]\n",
      " [14 25 36]]\n"
     ]
    }
   ],
   "source": [
    "import numpy as np\n",
    "\n",
    "# Define two arrays\n",
    "arr1 = np.array([[1, 2, 3],\n",
    "                 [4, 5, 6]])\n",
    "\n",
    "arr2 = np.array([10, 20, 30])\n",
    "\n",
    "# Add the arrays\n",
    "result = arr1 + arr2\n",
    "\n",
    "print(\"Array 1:\")\n",
    "print(arr1)\n",
    "print(\"\\nArray 2:\")\n",
    "print(arr2)\n",
    "print(\"\\nResult of addition:\")\n",
    "print(result)\n"
   ]
  },
  {
   "cell_type": "code",
   "execution_count": null,
   "id": "d2800046-dbf2-4662-8809-201b46eb1361",
   "metadata": {},
   "outputs": [],
   "source": []
  }
 ],
 "metadata": {
  "kernelspec": {
   "display_name": "Python 3 (ipykernel)",
   "language": "python",
   "name": "python3"
  },
  "language_info": {
   "codemirror_mode": {
    "name": "ipython",
    "version": 3
   },
   "file_extension": ".py",
   "mimetype": "text/x-python",
   "name": "python",
   "nbconvert_exporter": "python",
   "pygments_lexer": "ipython3",
   "version": "3.10.8"
  }
 },
 "nbformat": 4,
 "nbformat_minor": 5
}
